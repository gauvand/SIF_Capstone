{
 "cells": [
  {
   "cell_type": "markdown",
   "metadata": {},
   "source": [
    "## Make a configuration file template for training"
   ]
  },
  {
   "cell_type": "code",
   "execution_count": 3,
   "metadata": {},
   "outputs": [],
   "source": [
    "\"\"\"\n",
    "A template to write training config\n",
    "Currently support:\n",
    "1. A base model for LSTM (Rivanna GPU)\n",
    "2. Deep_isith module\n",
    "\"\"\"\n",
    "\n",
    "import configparser\n",
    "config = configparser.ConfigParser()\n",
    "config['data'] = {\"directory\":'./grasp-and-lift-eeg-detection/',\n",
    "                  \"subject #\": \"1\"\n",
    "    \n",
    "}\n",
    "\n",
    "config['training'] = {'model': 'LSTM', # --[LSTM, Deep_isith]\n",
    "                     'kernel_size': '5000', # --sliding window size to use\n",
    "                     'step' : '2500', #  --the step between each slice. means overlap between batches is 1- step \n",
    "                     'nepochs' : '2', # -- num of epochs to train\n",
    "                    'batch_size' : '8',\n",
    "                      'train_split' : '0.8',\n",
    "                      'lr' : '0.01'\n",
    "                      }\n",
    "\n",
    "with open('training_config_LSTM.ini', 'w') as configfile:\n",
    "    config.write(configfile)"
   ]
  },
  {
   "cell_type": "code",
   "execution_count": null,
   "metadata": {},
   "outputs": [],
   "source": [
    "# testing \n",
    "import configparser\n",
    "config = configparser.ConfigParser()\n",
    "config.sections()\n",
    "\n",
    "results = []\n",
    "config.read('training_config.ini')\n",
    "dir = config['data']['directory']\n",
    "subject_num = int(config['data']['subject #'])\n",
    "kernel_size = int(config['training']['kernel_size'])# sliding window size to use\n",
    "step = int(config['training']['step']) #  --the step between each slice. means overlap between batches is 1- step \n",
    "model = config['training']['model']\n",
    "# num of epochs to train\n",
    "nepochs = int(config['training']['nepochs'])\n",
    "\n",
    "batch_size = 2 # batch_size is a hyper parameter to tune \n",
    "train_split = 0.8\n",
    "lr = 0.01"
   ]
  },
  {
   "cell_type": "code",
   "execution_count": null,
   "metadata": {},
   "outputs": [],
   "source": [
    "!python config_template.py"
   ]
  }
 ],
 "metadata": {
  "kernelspec": {
   "display_name": "PyTorch 1.4.0 Py3.7",
   "language": "python",
   "name": "pytorch140_py37"
  },
  "language_info": {
   "codemirror_mode": {
    "name": "ipython",
    "version": 3
   },
   "file_extension": ".py",
   "mimetype": "text/x-python",
   "name": "python",
   "nbconvert_exporter": "python",
   "pygments_lexer": "ipython3",
   "version": "3.7.4"
  }
 },
 "nbformat": 4,
 "nbformat_minor": 4
}
