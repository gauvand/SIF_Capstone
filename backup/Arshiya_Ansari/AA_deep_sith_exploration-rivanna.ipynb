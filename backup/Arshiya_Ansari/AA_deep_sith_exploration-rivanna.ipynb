{
 "cells": [
  {
   "cell_type": "markdown",
   "metadata": {},
   "source": [
    "# Deep SITH Exploration\n",
    "\n",
    "## Breakdown \n",
    "\n",
    "@deep_isith.py: Python script that is called to actually create an instance of the network. Deep SITH inherits SITH features, so non-optional SITH parameters need to be included as well, or previously designated. \n",
    "\n",
    "    A Module built for SITH like an LSTM\n",
    "\n",
    "    Parameters\n",
    "    ----------\n",
    "    \n",
    "    layer_params: list\n",
    "        A list of dictionaries for each layer in the desired DeepSITH. All\n",
    "        of the parameters needed for the SITH part of the Layers, as well as\n",
    "        a hidden_size and optional act_func are required to be present.\n",
    "\n",
    "            \n",
    "    layer_params keys\n",
    "    -----------------\n",
    "    in_features: int \n",
    "        Number of tracked features in the network.\n",
    "    tau_min: float (default = 0.1)\n",
    "        The center of the temporal receptive field for the first taustar produced.\n",
    "    tau_max: float (default = 100)\n",
    "        The center of the temporal receptive field for the last taustar produced.\n",
    "    buff_max: int (default = None)\n",
    "        The maximum time in which the filters go into the past. NOTE: In order to \n",
    "        achieve as few edge effects as possible, buff_max needs to be bigger than\n",
    "        tau_max, and dependent on k, such that the filters have enough time to reach\n",
    "        very close to 0.0. Plot the filters and you will see them go to 0.\n",
    "    k: int (default = 50)\n",
    "        Temporal Specificity of the taustars. If this number is high, then taustars\n",
    "        will always be more narrow.\n",
    "    ntau: int (default = 50)\n",
    "        Number of taustars produced, spread out logarithmically.\n",
    "    dt: float (default = 1)\n",
    "        The time delta of the model. The there will be int(buff_max/dt) filters per\n",
    "        taustar. Essentially this is the base rate of information being presented to the\n",
    "        model\n",
    "    g: float (default = 0.0)\n",
    "        Typically between 0 and 1. This parameter is the scaling factor of the output\n",
    "        of the module. If set to 1, the output amplitude for a delta function will be\n",
    "        identical through time. If set to 0, the amplitude will decay into the past,\n",
    "        getting smaller and smaller. This value should be picked on an application to \n",
    "        application basis.\n",
    "    ttype: Torch Tensor\n",
    "        This is the type we set the internal mechanism of the model to before running.\n",
    "        In order to calculate the filters, we must use a DoubleTensor, but this is no\n",
    "        longer necessary after they are calculated. By default we set the filters to \n",
    "        be FloatTensors. NOTE: If you plan to use CUDA, you need to pass in a\n",
    "        cuda.FloatTensor as the ttype, as using .cuda() will not put these filters on \n",
    "        the gpu. \n",
    "    hidden_size: int (default in_features)\n",
    "        The size of the output of the hidden layer. Please note that the\n",
    "        in_features parameter for the next layer's SITH representation should be\n",
    "        equal to the previous layer's hidden_size. This parameter will default\n",
    "        to the in_features of the current SITH layer if not specified.\n",
    "    act_func: torch.nn.Module (default None)\n",
    "        The torch layer of the desired activation function, or None if no\n",
    "        there is no desired activation function between layers.\n",
    "        \"\"\"\n",
    "\n",
    "#### Update: 11/01/2020\n",
    "- Used Yibo's code for most of the preprocessing. "
   ]
  },
  {
   "cell_type": "markdown",
   "metadata": {},
   "source": [
    "### Set-up"
   ]
  },
  {
   "cell_type": "code",
   "execution_count": null,
   "metadata": {},
   "outputs": [],
   "source": [
    "!python /sfs/qumulo/qhome/aa9yk/Capstone/SITH_Layer/setup.py install --install-lib /home/aa9yk/.local/lib/python3.7/site-packages"
   ]
  },
  {
   "cell_type": "code",
   "execution_count": null,
   "metadata": {},
   "outputs": [],
   "source": [
    "%matplotlib inline"
   ]
  },
  {
   "cell_type": "code",
   "execution_count": 1,
   "metadata": {},
   "outputs": [
    {
     "name": "stdout",
     "output_type": "stream",
     "text": [
      "Name: torch\n",
      "Version: 1.7.0\n",
      "Summary: Tensors and Dynamic neural networks in Python with strong GPU acceleration\n",
      "Home-page: https://pytorch.org/\n",
      "Author: PyTorch Team\n",
      "Author-email: packages@pytorch.org\n",
      "License: BSD-3\n",
      "Location: /sfs/qumulo/qhome/aa9yk/.local/lib/python3.7/site-packages\n",
      "Requires: future, dataclasses, typing-extensions, numpy\n",
      "Required-by: \n"
     ]
    }
   ],
   "source": [
    "!pip show torch"
   ]
  },
  {
   "cell_type": "code",
   "execution_count": 63,
   "metadata": {},
   "outputs": [
    {
     "name": "stdout",
     "output_type": "stream",
     "text": [
      "Using: cuda\n",
      "Ttype: <class 'torch.cuda.LongTensor'>\n",
      "Finished importing packages and modules!\n"
     ]
    }
   ],
   "source": [
    "import os\n",
    "import sys\n",
    "sys.path.append('/sfs/qumulo/qhome/aa9yk/.local/lib/python3.7/site-packages')\n",
    "sys.path.append('/home/aa9yk/.local/bin')\n",
    "import matplotlib.pyplot as plt\n",
    "import torch\n",
    "from torch import nn as nn\n",
    "from math import factorial\n",
    "import random\n",
    "import torch.nn.functional as F\n",
    "import seaborn as sn\n",
    "from os.path import join\n",
    "import glob\n",
    "ttype = torch.cuda.LongTensor if torch.cuda.is_available() else torch.DoubleTensor\n",
    "device = torch.device(\"cuda\" if torch.cuda.is_available() else \"cpu\")\n",
    "print('Using:', device)\n",
    "print('Ttype:', ttype)\n",
    "sys.path.append('/sfs/qumulo/qhome/aa9yk/Capstone/SITH_Layer/')\n",
    "# deep_iSITH is being used here, not deep_sith\n",
    "from sith import DeepSITH\n",
    "from tqdm.notebook import tqdm\n",
    "import pickle\n",
    "from typing import List, Dict, Tuple, Any\n",
    "print(\"Finished importing packages and modules!\")"
   ]
  },
  {
   "cell_type": "markdown",
   "metadata": {},
   "source": [
    "### Code from Yibo's Preprocssing and iSITH \n",
    "\n",
    "TODO: We want to make sure that all the code can communicate with one another. We should attempt to modularize code so that we can call code that Yibo wrote in a file that I'm working on, etc. "
   ]
  },
  {
   "cell_type": "code",
   "execution_count": 64,
   "metadata": {},
   "outputs": [
    {
     "name": "stdout",
     "output_type": "stream",
     "text": [
      "Defaulting to user installation because normal site-packages is not writeable\n",
      "Requirement already satisfied: mne in /sfs/qumulo/qhome/aa9yk/.local/lib/python3.7/site-packages (0.21.2)\n",
      "Requirement already satisfied: numpy>=1.11.3 in /sfs/applications/202006/software/standard/compiler/gcc/7.1.0/jupyter_conda/2019.10-py3.7/lib/python3.7/site-packages (from mne) (1.18.1)\n",
      "Requirement already satisfied: scipy>=0.17.1 in /sfs/applications/202006/software/standard/compiler/gcc/7.1.0/jupyter_conda/2019.10-py3.7/lib/python3.7/site-packages (from mne) (1.4.1)\n"
     ]
    }
   ],
   "source": [
    "!pip install mne"
   ]
  },
  {
   "cell_type": "code",
   "execution_count": 65,
   "metadata": {},
   "outputs": [],
   "source": [
    "import mne\n",
    "import numpy as np\n",
    "import pandas as pd\n",
    "from mne.io import RawArray\n",
    "from mne.channels import make_standard_montage\n",
    "from mne.epochs import concatenate_epochs\n",
    "from mne import create_info, find_events, Epochs, concatenate_raws, pick_types\n",
    "from mne.decoding import CSP\n",
    "\n",
    "def creat_mne_raw_object(fname, read_events=True):\n",
    "    \"\"\"\n",
    "    obtained from @author: alexandrebarachant\n",
    "    https://www.kaggle.com/alexandrebarachant/beat-the-benchmark-0-67\n",
    "    Create a mne raw instance from csv file.\n",
    "    Make sure the events and data files are in the same folder\n",
    "    data are transformed into microvolts\n",
    "    \"\"\"\n",
    "    print(fname)\n",
    "    # Read EEG file\n",
    "    data = pd.read_csv(fname)\n",
    "    \n",
    "    # get chanel names\n",
    "    ch_names = list(data.columns[1:])\n",
    "    \n",
    "    # read EEG standard montage from mne\n",
    "    #montage = make_standard_montage('standard_1005')\n",
    "\n",
    "    ch_type = ['eeg']*len(ch_names)\n",
    "    data = 1e-6*np.array(data[ch_names]).T\n",
    "    \n",
    "    if read_events:\n",
    "        # events file\n",
    "        ev_fname = fname.replace('_data','_events')\n",
    "        # read event file\n",
    "        events = pd.read_csv(ev_fname)\n",
    "        events_names = events.columns[1:]\n",
    "        events_data = np.array(events[events_names]).T\n",
    "        # define channel type, the first is EEG, the last 6 are stimulations\n",
    "        ch_type.extend(['stim']*6)\n",
    "        ch_names.extend(events_names)\n",
    "        # concatenate event file and data\n",
    "        data = np.concatenate((data,events_data))\n",
    "        \n",
    "    # create and populate MNE info structure\n",
    "    info = create_info(ch_names,sfreq=500.0, ch_types=ch_type)\n",
    "    #info['filename'] = fname\n",
    "    print(info)\n",
    "    # create raw object \n",
    "    raw = RawArray(data,info,verbose=False)\n",
    "    #print(data)\n",
    "    return raw"
   ]
  },
  {
   "cell_type": "code",
   "execution_count": 66,
   "metadata": {},
   "outputs": [
    {
     "name": "stdout",
     "output_type": "stream",
     "text": [
      "/sfs/qumulo/qhome/aa9yk/Capstone/SIF_Capstone/train/subj9_series2_data.csv\n",
      "<Info | 7 non-empty values\n",
      " bads: []\n",
      " ch_names: Fp1, Fp2, F7, F3, Fz, F4, F8, FC5, FC1, FC2, FC6, T7, C3, Cz, ...\n",
      " chs: 32 EEG, 6 STIM\n",
      " custom_ref_applied: False\n",
      " highpass: 0.0 Hz\n",
      " lowpass: 250.0 Hz\n",
      " meas_date: unspecified\n",
      " nchan: 38\n",
      " projs: []\n",
      " sfreq: 500.0 Hz\n",
      ">\n"
     ]
    },
    {
     "name": "stderr",
     "output_type": "stream",
     "text": [
      "<ipython-input-65-f6f8f274ee14>:45: RuntimeWarning: 1 channel names are too long, have been truncated to 15 characters:\n",
      "['BothStartLoadPhase']\n",
      "  info = create_info(ch_names,sfreq=500.0, ch_types=ch_type)\n"
     ]
    }
   ],
   "source": [
    "# Loading in training data \n",
    "raw = creat_mne_raw_object(fname='/sfs/qumulo/qhome/aa9yk/Capstone/SIF_Capstone/train/subj9_series2_data.csv')"
   ]
  },
  {
   "cell_type": "markdown",
   "metadata": {},
   "source": [
    "### Preliminary Plotting"
   ]
  },
  {
   "cell_type": "code",
   "execution_count": 67,
   "metadata": {},
   "outputs": [
    {
     "name": "stdout",
     "output_type": "stream",
     "text": [
      "28 events found\n",
      "Event IDs: [1]\n"
     ]
    },
    {
     "data": {
      "image/png": "[encoded data removed]",
      "text/plain": [
       "<Figure size 432x288 with 4 Axes>"
      ]
     },
     "metadata": {},
     "output_type": "display_data"
    },
    {
     "data": {
      "image/png": "[encoded data removed]",
      "text/plain": [
       "<Figure size 432x288 with 4 Axes>"
      ]
     },
     "execution_count": 67,
     "metadata": {},
     "output_type": "execute_result"
    }
   ],
   "source": [
    "# Scaling is necessary to show the graphs properly\n",
    "# Vertical lines indicate a event\n",
    "scalings = {'eeg': 10e-4}\n",
    "events = mne.find_events(raw, stim_channel=['HandStart',])\n",
    "raw.plot(events=events, duration=100.0, start=0, n_channels=2, color=None,scalings=scalings)"
   ]
  },
  {
   "cell_type": "markdown",
   "metadata": {},
   "source": [
    "### Data Cleaning"
   ]
  },
  {
   "cell_type": "code",
   "execution_count": 68,
   "metadata": {},
   "outputs": [
    {
     "name": "stdout",
     "output_type": "stream",
     "text": [
      "torch.Size([1, 3000])\n",
      "torch.Size([1, 1, 32, 3000])\n"
     ]
    }
   ],
   "source": [
    "# input data, for this toy model, only consider the first 3000 unprocessed time points\n",
    "\n",
    "## the first 6 channel are targets, for this model, only use one channel\n",
    "\n",
    "data = raw.get_data()[:,0:3000]\n",
    "input_signal = data[0:32,:]\n",
    "\n",
    "target_signal = data[33,:] # use only the first channel target\n",
    "# reformatt into tensor\n",
    "input_tensor = ttype(input_signal.reshape(1,1,input_signal.shape[0],-1))\n",
    "\n",
    "\n",
    "target_tensor = ttype(target_signal.reshape(1,-1))\n",
    "\n",
    "print(target_tensor.shape)\n",
    "print(input_tensor.shape)\n",
    "\n",
    "input_tensor, target_tensor = input_tensor.cuda(), target_tensor.cuda() # add this line"
   ]
  },
  {
   "cell_type": "markdown",
   "metadata": {},
   "source": [
    "### Setup DeepSITH Classifier "
   ]
  },
  {
   "cell_type": "code",
   "execution_count": 69,
   "metadata": {},
   "outputs": [],
   "source": [
    "class DeepSITH_Classifier(nn.Module):\n",
    "    \"\"\"\n",
    "    Creates DeepSITH Classifier, which extends from the DeepSITH class. The DeepSITH\n",
    "    Classifier is characterized by layers of DeepSITH and an additional linear layer as the\n",
    "    last layer. \n",
    "    \"\"\"\n",
    "\n",
    "    def __init__(self, out_features:int, layer_params:List[Dict[str, Any]], dropout:int=0.5):\n",
    "        \"\"\"\n",
    "        Initialize the DeepSITH Classifier. \n",
    "        \n",
    "        Parameters\n",
    "        ----------\n",
    "        out_features: int\n",
    "            The number of features that should be the result of the classifier. Should be\n",
    "            the shape of the input. \n",
    "        layer_params: List[Dict[Any]]\n",
    "            A list of dictionaries for each layer in the desired DeepSITH. All of the\n",
    "            parameters needed for the SITH part of the Layers, as well as a hidden_size and\n",
    "            optional act_func are required to be present.\n",
    "        dropout: float (default = 0.5)\n",
    "            Probability of an element to be zeroed during training. Uses torch.nn.Dropout to randomly \n",
    "            zero some of the elements of the input tensor with the given dropout probability. Effective \n",
    "            technique for regularization and preventing the co-adaptation of neurons in neural networks.\n",
    "        \"\"\"\n",
    "        # super() function is used to give access to methods and properties of a parent or sibling class\n",
    "        super(DeepSITH_Classifier, self).__init__()\n",
    "\n",
    "        # Next layer's in_feature param should be equal to previous layer's hidden size \n",
    "        last_hidden = layer_params[-1]['hidden_size'] # The size of the output of the hidden layer\n",
    "        \n",
    "        # Call to DeepSITH function -- creates DeepSITH layers for each layer present in layer_params \n",
    "        self.hs = DeepSITH(layer_params=layer_params, dropout=dropout) \n",
    "        # Creation of the last linear layer in DeepSITH Classifier; Note: in_features = last_hidden \n",
    "        self.to_out = nn.Linear(last_hidden, out_features)\n",
    "\n",
    "    def forward(self, inp):   \n",
    "        \"\"\"\n",
    "        Takes in a t state and updates with item (Batch, 1, features, sequence)\n",
    "        Returns new little t state (Batch, Taustar, features, sequence)\n",
    "        \"\"\"\n",
    "        x = self.hs(inp) \n",
    "        x = self.to_out(x) \n",
    "        return x"
   ]
  },
  {
   "cell_type": "markdown",
   "metadata": {},
   "source": [
    "### Functions for training and testing models"
   ]
  },
  {
   "cell_type": "code",
   "execution_count": 70,
   "metadata": {},
   "outputs": [],
   "source": [
    "def train_model(model, signal,target,\n",
    "                optimizer,\n",
    "                loss_func,\n",
    "                epochs=1500):\n",
    "    \"\"\"\n",
    "    Toy model: try to predict one event (in fact there is six)\n",
    "    signal needs to be in correct format: nbatch x 1 x numFeutures x time tensor.\n",
    "    The inputs to the models are the time series EEG signals. All channels will be\n",
    "    concatnated into one channel by iSith.\n",
    "    The targets are inputed separately with [time] dimension tensor. The target is either 0 or 1 at any time point.  \n",
    "    \n",
    "    \"\"\"\n",
    "    \n",
    "    loss_track = {\"val\":[],\n",
    "                  \"epoch\":[],\n",
    "                  \"acc\":[],\n",
    "                  \"name\":[]}\n",
    "\n",
    "    # for GPU use torch.cuda.LongTensor\n",
    "    inps = signal.type(torch.cuda.DoubleTensor)\n",
    "    targets = target.type(torch.cuda.DoubleTensor)\n",
    "    \n",
    "    progress_bar = tqdm(range(int(epochs)))\n",
    "    \n",
    "    for e in progress_bar:\n",
    "        # Zero the gradient between each batch\n",
    "        model.zero_grad()\n",
    "        \n",
    "        # Present an entire batch to the model\n",
    "        out = model(inps)\n",
    "        #print(out.shape)\n",
    "        # Measure loss via CrossEntropyLoss\n",
    "        loss = loss_func(out, targets)\n",
    "        \n",
    "        # Adjust Weights\n",
    "        loss.backward()\n",
    "        optimizer.step()\n",
    "        \n",
    "        # Record loss, epoch number, batch number in epoch, \n",
    "        # last accuracy measure, etc\n",
    "        loss_track['val'].append(loss.mean().detach().cpu().numpy())\n",
    "        loss_track['epoch'].append(e)\n",
    "        loss_track['name'].append(model.__class__.__name__)\n",
    "        \n",
    "        acc = test_model(model, signal,target)\n",
    "        loss_track['acc'].append(acc)\n",
    "        \n",
    "        # Update progress_bar\n",
    "        progress_bar.set_description(\"%i: Loss: %0.6f, Acc: %0.4f\" % (e, loss_track['val'][-1], acc))\n",
    "        \n",
    "    return loss_track\n",
    "\n",
    "def test_model(model, signal,target, thresh = 0.1):\n",
    "    \"\"\"\n",
    "    Toy model: test for accuracy\n",
    "    \n",
    "    signal needs to be in correct format: nchannels x 1 x 1 x time tensor.\n",
    "    The inputs to the models are the time series EEG signals. All channels will be\n",
    "    concatnated into one channel by iSith.\n",
    "    The targets are inputed separately with 1x1x1xtime dimension tensor. The target is either 0 or 1 at any time point.  \n",
    "    \n",
    "    \"\"\"\n",
    "    inps = signal.type(torch.cuda.LongTensor)\n",
    "    targets = target.type(torch.cuda.LongTensor)\n",
    "    \n",
    "    out = model(inps)\n",
    "    result = out[:,-1]\n",
    "    # Accuracy: use a threshold (currently 0.1, subject to change)\n",
    "    # if value is smaller than the threshold, 0 is assigned, and 1 is assigned otherwise\n",
    "\n",
    "    result[result<thresh] = 0\n",
    "    result[result>=thresh] = 1\n",
    "    correct = (result == targets).sum().detach().cpu().numpy()\n",
    "    acc = correct/targets.shape[1]\n",
    "    return acc"
   ]
  },
  {
   "cell_type": "markdown",
   "metadata": {},
   "source": [
    "### Testing DeepSITH Classifer\n",
    "\n",
    "Arbitraily creating test layers to make sure the DeepSITH classifer works as expected. Allows us to determine network parameters. "
   ]
  },
  {
   "cell_type": "code",
   "execution_count": 71,
   "metadata": {},
   "outputs": [
    {
     "data": {
      "application/vnd.jupyter.widget-view+json": {
       "model_id": "77369434a7cb420b8ecb11355b6b7900",
       "version_major": 2,
       "version_minor": 0
      },
      "text/plain": [
       "HBox(children=(FloatProgress(value=0.0, max=30.0), HTML(value='')))"
      ]
     },
     "metadata": {},
     "output_type": "display_data"
    },
    {
     "ename": "RuntimeError",
     "evalue": "getCudnnDataTypeFromScalarType() not supported for Long",
     "output_type": "error",
     "traceback": [
      "\u001b[0;31m---------------------------------------------------------------------------\u001b[0m",
      "\u001b[0;31mRuntimeError\u001b[0m                              Traceback (most recent call last)",
      "\u001b[0;32m<ipython-input-71-a0e3059c6997>\u001b[0m in \u001b[0;36m<module>\u001b[0;34m\u001b[0m\n\u001b[1;32m     31\u001b[0m \u001b[0;31m#------------------ training -----------------------------------#\u001b[0m\u001b[0;34m\u001b[0m\u001b[0;34m\u001b[0m\u001b[0;34m\u001b[0m\u001b[0m\n\u001b[1;32m     32\u001b[0m perf = train_model(model, input_tensor, target_tensor,\n\u001b[0;32m---> 33\u001b[0;31m                    optimizer, loss_func,epochs=epochs )\n\u001b[0m\u001b[1;32m     34\u001b[0m                    \u001b[0;31m#loss_buffer_size=loss_buffer_size\u001b[0m\u001b[0;34m\u001b[0m\u001b[0;34m\u001b[0m\u001b[0;34m\u001b[0m\u001b[0m\n\u001b[1;32m     35\u001b[0m \u001b[0mprint\u001b[0m\u001b[0;34m(\u001b[0m\u001b[0mmodel\u001b[0m\u001b[0;34m)\u001b[0m\u001b[0;34m\u001b[0m\u001b[0;34m\u001b[0m\u001b[0m\n",
      "\u001b[0;32m<ipython-input-70-484ac910c3d7>\u001b[0m in \u001b[0;36mtrain_model\u001b[0;34m(model, signal, target, optimizer, loss_func, epochs)\u001b[0m\n\u001b[1;32m     30\u001b[0m \u001b[0;34m\u001b[0m\u001b[0m\n\u001b[1;32m     31\u001b[0m         \u001b[0;31m# Present an entire batch to the model\u001b[0m\u001b[0;34m\u001b[0m\u001b[0;34m\u001b[0m\u001b[0;34m\u001b[0m\u001b[0m\n\u001b[0;32m---> 32\u001b[0;31m         \u001b[0mout\u001b[0m \u001b[0;34m=\u001b[0m \u001b[0mmodel\u001b[0m\u001b[0;34m(\u001b[0m\u001b[0msignal\u001b[0m\u001b[0;34m[\u001b[0m\u001b[0mperm\u001b[0m\u001b[0;34m]\u001b[0m\u001b[0;34m)\u001b[0m\u001b[0;34m\u001b[0m\u001b[0;34m\u001b[0m\u001b[0m\n\u001b[0m\u001b[1;32m     33\u001b[0m         \u001b[0;31m#print(out.shape)\u001b[0m\u001b[0;34m\u001b[0m\u001b[0;34m\u001b[0m\u001b[0;34m\u001b[0m\u001b[0m\n\u001b[1;32m     34\u001b[0m         \u001b[0;31m# Measure loss via CrossEntropyLoss\u001b[0m\u001b[0;34m\u001b[0m\u001b[0;34m\u001b[0m\u001b[0;34m\u001b[0m\u001b[0m\n",
      "\u001b[0;32m~/.local/lib/python3.7/site-packages/torch/nn/modules/module.py\u001b[0m in \u001b[0;36m_call_impl\u001b[0;34m(self, *input, **kwargs)\u001b[0m\n\u001b[1;32m    725\u001b[0m             \u001b[0mresult\u001b[0m \u001b[0;34m=\u001b[0m \u001b[0mself\u001b[0m\u001b[0;34m.\u001b[0m\u001b[0m_slow_forward\u001b[0m\u001b[0;34m(\u001b[0m\u001b[0;34m*\u001b[0m\u001b[0minput\u001b[0m\u001b[0;34m,\u001b[0m \u001b[0;34m**\u001b[0m\u001b[0mkwargs\u001b[0m\u001b[0;34m)\u001b[0m\u001b[0;34m\u001b[0m\u001b[0;34m\u001b[0m\u001b[0m\n\u001b[1;32m    726\u001b[0m         \u001b[0;32melse\u001b[0m\u001b[0;34m:\u001b[0m\u001b[0;34m\u001b[0m\u001b[0;34m\u001b[0m\u001b[0m\n\u001b[0;32m--> 727\u001b[0;31m             \u001b[0mresult\u001b[0m \u001b[0;34m=\u001b[0m \u001b[0mself\u001b[0m\u001b[0;34m.\u001b[0m\u001b[0mforward\u001b[0m\u001b[0;34m(\u001b[0m\u001b[0;34m*\u001b[0m\u001b[0minput\u001b[0m\u001b[0;34m,\u001b[0m \u001b[0;34m**\u001b[0m\u001b[0mkwargs\u001b[0m\u001b[0;34m)\u001b[0m\u001b[0;34m\u001b[0m\u001b[0;34m\u001b[0m\u001b[0m\n\u001b[0m\u001b[1;32m    728\u001b[0m         for hook in itertools.chain(\n\u001b[1;32m    729\u001b[0m                 \u001b[0m_global_forward_hooks\u001b[0m\u001b[0;34m.\u001b[0m\u001b[0mvalues\u001b[0m\u001b[0;34m(\u001b[0m\u001b[0;34m)\u001b[0m\u001b[0;34m,\u001b[0m\u001b[0;34m\u001b[0m\u001b[0;34m\u001b[0m\u001b[0m\n",
      "\u001b[0;32m<ipython-input-69-fe608f1fa370>\u001b[0m in \u001b[0;36mforward\u001b[0;34m(self, inp)\u001b[0m\n\u001b[1;32m     40\u001b[0m         \u001b[0mReturns\u001b[0m \u001b[0mnew\u001b[0m \u001b[0mlittle\u001b[0m \u001b[0mt\u001b[0m \u001b[0mstate\u001b[0m \u001b[0;34m(\u001b[0m\u001b[0mBatch\u001b[0m\u001b[0;34m,\u001b[0m \u001b[0mTaustar\u001b[0m\u001b[0;34m,\u001b[0m \u001b[0mfeatures\u001b[0m\u001b[0;34m,\u001b[0m \u001b[0msequence\u001b[0m\u001b[0;34m)\u001b[0m\u001b[0;34m\u001b[0m\u001b[0;34m\u001b[0m\u001b[0m\n\u001b[1;32m     41\u001b[0m         \"\"\"\n\u001b[0;32m---> 42\u001b[0;31m         \u001b[0mx\u001b[0m \u001b[0;34m=\u001b[0m \u001b[0mself\u001b[0m\u001b[0;34m.\u001b[0m\u001b[0mhs\u001b[0m\u001b[0;34m(\u001b[0m\u001b[0minp\u001b[0m\u001b[0;34m)\u001b[0m\u001b[0;34m\u001b[0m\u001b[0;34m\u001b[0m\u001b[0m\n\u001b[0m\u001b[1;32m     43\u001b[0m         \u001b[0mx\u001b[0m \u001b[0;34m=\u001b[0m \u001b[0mself\u001b[0m\u001b[0;34m.\u001b[0m\u001b[0mto_out\u001b[0m\u001b[0;34m(\u001b[0m\u001b[0mx\u001b[0m\u001b[0;34m)\u001b[0m\u001b[0;34m\u001b[0m\u001b[0;34m\u001b[0m\u001b[0m\n\u001b[1;32m     44\u001b[0m         \u001b[0;32mreturn\u001b[0m \u001b[0mx\u001b[0m\u001b[0;34m\u001b[0m\u001b[0;34m\u001b[0m\u001b[0m\n",
      "\u001b[0;32m~/.local/lib/python3.7/site-packages/torch/nn/modules/module.py\u001b[0m in \u001b[0;36m_call_impl\u001b[0;34m(self, *input, **kwargs)\u001b[0m\n\u001b[1;32m    725\u001b[0m             \u001b[0mresult\u001b[0m \u001b[0;34m=\u001b[0m \u001b[0mself\u001b[0m\u001b[0;34m.\u001b[0m\u001b[0m_slow_forward\u001b[0m\u001b[0;34m(\u001b[0m\u001b[0;34m*\u001b[0m\u001b[0minput\u001b[0m\u001b[0;34m,\u001b[0m \u001b[0;34m**\u001b[0m\u001b[0mkwargs\u001b[0m\u001b[0;34m)\u001b[0m\u001b[0;34m\u001b[0m\u001b[0;34m\u001b[0m\u001b[0m\n\u001b[1;32m    726\u001b[0m         \u001b[0;32melse\u001b[0m\u001b[0;34m:\u001b[0m\u001b[0;34m\u001b[0m\u001b[0;34m\u001b[0m\u001b[0m\n\u001b[0;32m--> 727\u001b[0;31m             \u001b[0mresult\u001b[0m \u001b[0;34m=\u001b[0m \u001b[0mself\u001b[0m\u001b[0;34m.\u001b[0m\u001b[0mforward\u001b[0m\u001b[0;34m(\u001b[0m\u001b[0;34m*\u001b[0m\u001b[0minput\u001b[0m\u001b[0;34m,\u001b[0m \u001b[0;34m**\u001b[0m\u001b[0mkwargs\u001b[0m\u001b[0;34m)\u001b[0m\u001b[0;34m\u001b[0m\u001b[0;34m\u001b[0m\u001b[0m\n\u001b[0m\u001b[1;32m    728\u001b[0m         for hook in itertools.chain(\n\u001b[1;32m    729\u001b[0m                 \u001b[0m_global_forward_hooks\u001b[0m\u001b[0;34m.\u001b[0m\u001b[0mvalues\u001b[0m\u001b[0;34m(\u001b[0m\u001b[0;34m)\u001b[0m\u001b[0;34m,\u001b[0m\u001b[0;34m\u001b[0m\u001b[0;34m\u001b[0m\u001b[0m\n",
      "\u001b[0;32m/sfs/qumulo/qhome/aa9yk/Capstone/SITH_Layer/sith/deep_isith.py\u001b[0m in \u001b[0;36mforward\u001b[0;34m(self, inp)\u001b[0m\n\u001b[1;32m     72\u001b[0m         \u001b[0mx\u001b[0m \u001b[0;34m=\u001b[0m \u001b[0minp\u001b[0m\u001b[0;34m\u001b[0m\u001b[0;34m\u001b[0m\u001b[0m\n\u001b[1;32m     73\u001b[0m         \u001b[0;32mfor\u001b[0m \u001b[0mi\u001b[0m\u001b[0;34m,\u001b[0m \u001b[0ml\u001b[0m \u001b[0;32min\u001b[0m \u001b[0menumerate\u001b[0m\u001b[0;34m(\u001b[0m\u001b[0mself\u001b[0m\u001b[0;34m.\u001b[0m\u001b[0mlayers\u001b[0m\u001b[0;34m[\u001b[0m\u001b[0;34m:\u001b[0m\u001b[0;34m-\u001b[0m\u001b[0;36m1\u001b[0m\u001b[0;34m]\u001b[0m\u001b[0;34m)\u001b[0m\u001b[0;34m:\u001b[0m\u001b[0;34m\u001b[0m\u001b[0;34m\u001b[0m\u001b[0m\n\u001b[0;32m---> 74\u001b[0;31m             \u001b[0mx\u001b[0m \u001b[0;34m=\u001b[0m \u001b[0ml\u001b[0m\u001b[0;34m(\u001b[0m\u001b[0mx\u001b[0m\u001b[0;34m)\u001b[0m\u001b[0;34m\u001b[0m\u001b[0;34m\u001b[0m\u001b[0m\n\u001b[0m\u001b[1;32m     75\u001b[0m             \u001b[0mx\u001b[0m \u001b[0;34m=\u001b[0m \u001b[0mself\u001b[0m\u001b[0;34m.\u001b[0m\u001b[0mdropouts\u001b[0m\u001b[0;34m[\u001b[0m\u001b[0mi\u001b[0m\u001b[0;34m]\u001b[0m\u001b[0;34m(\u001b[0m\u001b[0mx\u001b[0m\u001b[0;34m)\u001b[0m\u001b[0;34m\u001b[0m\u001b[0;34m\u001b[0m\u001b[0m\n\u001b[1;32m     76\u001b[0m             \u001b[0mx\u001b[0m \u001b[0;34m=\u001b[0m \u001b[0mx\u001b[0m\u001b[0;34m.\u001b[0m\u001b[0munsqueeze\u001b[0m\u001b[0;34m(\u001b[0m\u001b[0;36m1\u001b[0m\u001b[0;34m)\u001b[0m\u001b[0;34m.\u001b[0m\u001b[0mtranspose\u001b[0m\u001b[0;34m(\u001b[0m\u001b[0;36m3\u001b[0m\u001b[0;34m,\u001b[0m\u001b[0;36m2\u001b[0m\u001b[0;34m)\u001b[0m\u001b[0;34m\u001b[0m\u001b[0;34m\u001b[0m\u001b[0m\n",
      "\u001b[0;32m~/.local/lib/python3.7/site-packages/torch/nn/modules/module.py\u001b[0m in \u001b[0;36m_call_impl\u001b[0;34m(self, *input, **kwargs)\u001b[0m\n\u001b[1;32m    725\u001b[0m             \u001b[0mresult\u001b[0m \u001b[0;34m=\u001b[0m \u001b[0mself\u001b[0m\u001b[0;34m.\u001b[0m\u001b[0m_slow_forward\u001b[0m\u001b[0;34m(\u001b[0m\u001b[0;34m*\u001b[0m\u001b[0minput\u001b[0m\u001b[0;34m,\u001b[0m \u001b[0;34m**\u001b[0m\u001b[0mkwargs\u001b[0m\u001b[0;34m)\u001b[0m\u001b[0;34m\u001b[0m\u001b[0;34m\u001b[0m\u001b[0m\n\u001b[1;32m    726\u001b[0m         \u001b[0;32melse\u001b[0m\u001b[0;34m:\u001b[0m\u001b[0;34m\u001b[0m\u001b[0;34m\u001b[0m\u001b[0m\n\u001b[0;32m--> 727\u001b[0;31m             \u001b[0mresult\u001b[0m \u001b[0;34m=\u001b[0m \u001b[0mself\u001b[0m\u001b[0;34m.\u001b[0m\u001b[0mforward\u001b[0m\u001b[0;34m(\u001b[0m\u001b[0;34m*\u001b[0m\u001b[0minput\u001b[0m\u001b[0;34m,\u001b[0m \u001b[0;34m**\u001b[0m\u001b[0mkwargs\u001b[0m\u001b[0;34m)\u001b[0m\u001b[0;34m\u001b[0m\u001b[0;34m\u001b[0m\u001b[0m\n\u001b[0m\u001b[1;32m    728\u001b[0m         for hook in itertools.chain(\n\u001b[1;32m    729\u001b[0m                 \u001b[0m_global_forward_hooks\u001b[0m\u001b[0;34m.\u001b[0m\u001b[0mvalues\u001b[0m\u001b[0;34m(\u001b[0m\u001b[0;34m)\u001b[0m\u001b[0;34m,\u001b[0m\u001b[0;34m\u001b[0m\u001b[0;34m\u001b[0m\u001b[0m\n",
      "\u001b[0;32m/sfs/qumulo/qhome/aa9yk/Capstone/SITH_Layer/sith/deep_isith.py\u001b[0m in \u001b[0;36mforward\u001b[0;34m(self, inp)\u001b[0m\n\u001b[1;32m     30\u001b[0m \u001b[0;34m\u001b[0m\u001b[0m\n\u001b[1;32m     31\u001b[0m     \u001b[0;32mdef\u001b[0m \u001b[0mforward\u001b[0m\u001b[0;34m(\u001b[0m\u001b[0mself\u001b[0m\u001b[0;34m,\u001b[0m \u001b[0minp\u001b[0m\u001b[0;34m)\u001b[0m\u001b[0;34m:\u001b[0m\u001b[0;34m\u001b[0m\u001b[0;34m\u001b[0m\u001b[0m\n\u001b[0;32m---> 32\u001b[0;31m         \u001b[0mx\u001b[0m \u001b[0;34m=\u001b[0m \u001b[0mself\u001b[0m\u001b[0;34m.\u001b[0m\u001b[0msith\u001b[0m\u001b[0;34m(\u001b[0m\u001b[0minp\u001b[0m\u001b[0;34m)\u001b[0m\u001b[0;34m\u001b[0m\u001b[0;34m\u001b[0m\u001b[0m\n\u001b[0m\u001b[1;32m     33\u001b[0m         \u001b[0mx\u001b[0m \u001b[0;34m=\u001b[0m \u001b[0mx\u001b[0m\u001b[0;34m.\u001b[0m\u001b[0mtranspose\u001b[0m\u001b[0;34m(\u001b[0m\u001b[0;36m3\u001b[0m\u001b[0;34m,\u001b[0m\u001b[0;36m2\u001b[0m\u001b[0;34m)\u001b[0m\u001b[0;34m.\u001b[0m\u001b[0mtranspose\u001b[0m\u001b[0;34m(\u001b[0m\u001b[0;36m2\u001b[0m\u001b[0;34m,\u001b[0m\u001b[0;36m1\u001b[0m\u001b[0;34m)\u001b[0m\u001b[0;34m\u001b[0m\u001b[0;34m\u001b[0m\u001b[0m\n\u001b[1;32m     34\u001b[0m         \u001b[0mx\u001b[0m \u001b[0;34m=\u001b[0m \u001b[0mx\u001b[0m\u001b[0;34m.\u001b[0m\u001b[0mview\u001b[0m\u001b[0;34m(\u001b[0m\u001b[0mx\u001b[0m\u001b[0;34m.\u001b[0m\u001b[0mshape\u001b[0m\u001b[0;34m[\u001b[0m\u001b[0;36m0\u001b[0m\u001b[0;34m]\u001b[0m\u001b[0;34m,\u001b[0m \u001b[0mx\u001b[0m\u001b[0;34m.\u001b[0m\u001b[0mshape\u001b[0m\u001b[0;34m[\u001b[0m\u001b[0;36m1\u001b[0m\u001b[0;34m]\u001b[0m\u001b[0;34m,\u001b[0m \u001b[0;34m-\u001b[0m\u001b[0;36m1\u001b[0m\u001b[0;34m)\u001b[0m\u001b[0;34m\u001b[0m\u001b[0;34m\u001b[0m\u001b[0m\n",
      "\u001b[0;32m~/.local/lib/python3.7/site-packages/torch/nn/modules/module.py\u001b[0m in \u001b[0;36m_call_impl\u001b[0;34m(self, *input, **kwargs)\u001b[0m\n\u001b[1;32m    725\u001b[0m             \u001b[0mresult\u001b[0m \u001b[0;34m=\u001b[0m \u001b[0mself\u001b[0m\u001b[0;34m.\u001b[0m\u001b[0m_slow_forward\u001b[0m\u001b[0;34m(\u001b[0m\u001b[0;34m*\u001b[0m\u001b[0minput\u001b[0m\u001b[0;34m,\u001b[0m \u001b[0;34m**\u001b[0m\u001b[0mkwargs\u001b[0m\u001b[0;34m)\u001b[0m\u001b[0;34m\u001b[0m\u001b[0;34m\u001b[0m\u001b[0m\n\u001b[1;32m    726\u001b[0m         \u001b[0;32melse\u001b[0m\u001b[0;34m:\u001b[0m\u001b[0;34m\u001b[0m\u001b[0;34m\u001b[0m\u001b[0m\n\u001b[0;32m--> 727\u001b[0;31m             \u001b[0mresult\u001b[0m \u001b[0;34m=\u001b[0m \u001b[0mself\u001b[0m\u001b[0;34m.\u001b[0m\u001b[0mforward\u001b[0m\u001b[0;34m(\u001b[0m\u001b[0;34m*\u001b[0m\u001b[0minput\u001b[0m\u001b[0;34m,\u001b[0m \u001b[0;34m**\u001b[0m\u001b[0mkwargs\u001b[0m\u001b[0;34m)\u001b[0m\u001b[0;34m\u001b[0m\u001b[0;34m\u001b[0m\u001b[0m\n\u001b[0m\u001b[1;32m    728\u001b[0m         for hook in itertools.chain(\n\u001b[1;32m    729\u001b[0m                 \u001b[0m_global_forward_hooks\u001b[0m\u001b[0;34m.\u001b[0m\u001b[0mvalues\u001b[0m\u001b[0;34m(\u001b[0m\u001b[0;34m)\u001b[0m\u001b[0;34m,\u001b[0m\u001b[0;34m\u001b[0m\u001b[0;34m\u001b[0m\u001b[0m\n",
      "\u001b[0;32m/sfs/qumulo/qhome/aa9yk/Capstone/SITH_Layer/sith/isith.py\u001b[0m in \u001b[0;36mforward\u001b[0;34m(self, inp)\u001b[0m\n\u001b[1;32m     76\u001b[0m         \u001b[0;32massert\u001b[0m\u001b[0;34m(\u001b[0m\u001b[0mlen\u001b[0m\u001b[0;34m(\u001b[0m\u001b[0minp\u001b[0m\u001b[0;34m.\u001b[0m\u001b[0mshape\u001b[0m\u001b[0;34m)\u001b[0m \u001b[0;34m>=\u001b[0m \u001b[0;36m4\u001b[0m\u001b[0;34m)\u001b[0m\u001b[0;34m\u001b[0m\u001b[0;34m\u001b[0m\u001b[0m\n\u001b[1;32m     77\u001b[0m         out = torch.conv2d(inp, self.filters[:, :, :, -inp.shape[-1]:], \n\u001b[0;32m---> 78\u001b[0;31m                            padding=[0, self.filters[:, :, :, -inp.shape[-1]:].shape[-1]])\n\u001b[0m\u001b[1;32m     79\u001b[0m                            \u001b[0;31m#padding=[0, self.filters.shape[-1]])\u001b[0m\u001b[0;34m\u001b[0m\u001b[0;34m\u001b[0m\u001b[0;34m\u001b[0m\u001b[0m\n\u001b[1;32m     80\u001b[0m         \u001b[0;31m# note we're scaling the output by both dt and the k/(k+1)\u001b[0m\u001b[0;34m\u001b[0m\u001b[0;34m\u001b[0m\u001b[0;34m\u001b[0m\u001b[0m\n",
      "\u001b[0;31mRuntimeError\u001b[0m: getCudnnDataTypeFromScalarType() not supported for Long"
     ]
    }
   ],
   "source": [
    "# num of epochs to train\n",
    "epochs = 30\n",
    "# Just for visualizing average loss through time. \n",
    "loss_buffer_size = 100\n",
    "loss_func = torch.nn.CrossEntropyLoss()\n",
    "\n",
    "\n",
    "#--------------- sith layer model parameters ------------------#\n",
    "sith_params2 = {\"in_features\":32, # make sure this mathces the number of feutures in the EEG data\n",
    "                \"tau_min\":.1, \"tau_max\":20.0, 'buff_max':40,\n",
    "                \"k\":50,\n",
    "                \"ntau\":10, 'g':0,  \n",
    "                \"ttype\":ttype, \n",
    "                \"hidden_size\":100, \"act_func\":nn.ReLU()}\n",
    "sith_params3 = {\"in_features\":sith_params2['hidden_size'], \n",
    "                \"tau_min\":.1, \"tau_max\":200.0,  'buff_max':240,\n",
    "                \"k\":50,\n",
    "                \"ntau\":10, 'g':0, \n",
    "                \"ttype\":ttype, \n",
    "                \"hidden_size\":100, \"act_func\":nn.ReLU()}\n",
    "layer_params = [sith_params2, sith_params3]\n",
    "\n",
    "\n",
    "#------------------ model configuration ------------------------#\n",
    "# number of output feature should be the number of time points\n",
    "model = DeepSITH_Classifier(out_features=target_tensor.shape[1],\n",
    "                            layer_params=layer_params, \n",
    "                            dropout=0.1).cuda().double()\n",
    "optimizer = torch.optim.Adam(model.parameters())\n",
    "\n",
    "#------------------ training -----------------------------------#\n",
    "perf = train_model(model, input_tensor, target_tensor,\n",
    "                   optimizer, loss_func,epochs=epochs )\n",
    "                   #loss_buffer_size=loss_buffer_size\n",
    "print(model)\n",
    "for i, l in enumerate(model.hs.layers):\n",
    "    print(\"Layer {}\".format(i), l.sith.tau_star)\n",
    "tot_weights = 0\n",
    "for p in model.parameters():\n",
    "    tot_weights += p.numel()\n",
    "print(\"Total Weights:\", tot_weights)"
   ]
  },
  {
   "cell_type": "markdown",
   "metadata": {},
   "source": [
    "### Visualizing the taustar buffers for each feature"
   ]
  },
  {
   "cell_type": "code",
   "execution_count": null,
   "metadata": {},
   "outputs": [],
   "source": [
    "plt.plot(model.hs.layers[0].sith.filters[:, 0, 0, :].detach().cpu().T)"
   ]
  },
  {
   "cell_type": "code",
   "execution_count": null,
   "metadata": {},
   "outputs": [],
   "source": [
    "print(f'First layer: {model.hs.layers[0].sith}')\n",
    "print(f'Second layer: {model.hs.layers[1].sith}')\n",
    "print(f'Linear layer: {model.to_out}')"
   ]
  },
  {
   "cell_type": "code",
   "execution_count": null,
   "metadata": {},
   "outputs": [],
   "source": [
    "test_output = model(signals[:, :, :, :]) # Train model on signals \n",
    "print(test_output.shape)"
   ]
  },
  {
   "cell_type": "code",
   "execution_count": null,
   "metadata": {},
   "outputs": [],
   "source": [
    "ntau = 5\n",
    "for i in range(ntau):\n",
    "    plt.plot(test_output[0, i, 0, :].detach().cpu(),label=f'tau star{i}' )\n",
    "plt.plot(signal[0],label=\"original signal\")\n",
    "plt.axis([0, 100, -0.0008, 0.0008])\n",
    "plt.legend()\n",
    "plt.show()"
   ]
  },
  {
   "cell_type": "code",
   "execution_count": null,
   "metadata": {},
   "outputs": [],
   "source": []
  }
 ],
 "metadata": {
  "kernelspec": {
   "display_name": "Python 3",
   "language": "python",
   "name": "python3"
  },
  "language_info": {
   "codemirror_mode": {
    "name": "ipython",
    "version": 3
   },
   "file_extension": ".py",
   "mimetype": "text/x-python",
   "name": "python",
   "nbconvert_exporter": "python",
   "pygments_lexer": "ipython3",
   "version": "3.7.4"
  }
 },
 "nbformat": 4,
 "nbformat_minor": 4
}
