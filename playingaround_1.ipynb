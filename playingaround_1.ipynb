{
 "cells": [
  {
   "cell_type": "code",
   "execution_count": 20,
   "metadata": {},
   "outputs": [],
   "source": [
    "import os\n",
    "import numpy as np\n",
    "import mne\n",
    "import seaborn as sns"
   ]
  },
  {
   "cell_type": "markdown",
   "metadata": {},
   "source": [
    "### Importing raw data - S001"
   ]
  },
  {
   "cell_type": "code",
   "execution_count": 10,
   "metadata": {},
   "outputs": [
    {
     "name": "stdout",
     "output_type": "stream",
     "text": [
      "Extracting EDF parameters from /Users/gauravanand/Documents/UVA/Capstone/EEG Data/files/S001/S001R01.edf...\n",
      "EDF file detected\n",
      "Setting channel info structure...\n",
      "Creating raw.info structure...\n"
     ]
    }
   ],
   "source": [
    "raw_data = mne.io.read_raw_edf(\"S001/S001R01.edf\")"
   ]
  },
  {
   "cell_type": "code",
   "execution_count": 44,
   "metadata": {},
   "outputs": [
    {
     "name": "stdout",
     "output_type": "stream",
     "text": [
      "Used Annotations descriptions: ['T0']\n"
     ]
    },
    {
     "data": {
      "text/plain": [
       "9760"
      ]
     },
     "execution_count": 44,
     "metadata": {},
     "output_type": "execute_result"
    }
   ],
   "source": [
    "data,times = raw_data[:]\n",
    "data[:, 1] # Slice 1 - all channels\n",
    "data[63,:] # Channel 64\n",
    "raw_data.get_data(3) # allows you to get any channel\n",
    "mne.events_from_annotations(raw_data) # why is this of shape (nx3)\n",
    "raw_data."
   ]
  },
  {
   "cell_type": "code",
   "execution_count": 39,
   "metadata": {},
   "outputs": [
    {
     "name": "stdout",
     "output_type": "stream",
     "text": [
      "Help on function events_from_annotations in module mne.annotations:\n",
      "\n",
      "events_from_annotations(raw, event_id='auto', regexp='^(?![Bb][Aa][Dd]|[Ee][Dd][Gg][Ee]).*$', use_rounding=True, chunk_duration=None, verbose=None)\n",
      "    Get events and event_id from an Annotations object.\n",
      "    \n",
      "    Parameters\n",
      "    ----------\n",
      "    raw : instance of Raw\n",
      "        The raw data for which Annotations are defined.\n",
      "    event_id : dict | callable | None | 'auto'\n",
      "        Can be:\n",
      "    \n",
      "        - **dict**: map descriptions (keys) to integer event codes (values).\n",
      "          Only the descriptions present will be mapped, others will be ignored.\n",
      "        - **callable**: must take a string input and return an integer event\n",
      "          code, or return ``None`` to ignore the event.\n",
      "        - **None**: Map descriptions to unique integer values based on their\n",
      "          ``sorted`` order.\n",
      "        - **'auto' (default)**: prefer a raw-format-specific parser:\n",
      "    \n",
      "          - Brainvision: map stimulus events to their integer part; response\n",
      "            events to integer part + 1000; optic events to integer part + 2000;\n",
      "            'SyncStatus/Sync On' to 99998; 'New Segment/' to 99999;\n",
      "            all others like ``None`` with an offset of 10000.\n",
      "          - Other raw formats: Behaves like None.\n",
      "    \n",
      "          .. versionadded:: 0.18\n",
      "    regexp : str | None\n",
      "        Regular expression used to filter the annotations whose\n",
      "        descriptions is a match. The default ignores descriptions beginning\n",
      "        ``'bad'`` or ``'edge'`` (case-insensitive).\n",
      "    \n",
      "        .. versionchanged:: 0.18\n",
      "           Default ignores bad and edge descriptions.\n",
      "    use_rounding : bool\n",
      "        If True, use rounding (instead of truncation) when converting\n",
      "        times to indices. This can help avoid non-unique indices.\n",
      "    chunk_duration : float | None\n",
      "        Chunk duration in seconds. If ``chunk_duration`` is set to None\n",
      "        (default), generated events correspond to the annotation onsets.\n",
      "        If not, :func:`mne.events_from_annotations` returns as many events as\n",
      "        they fit within the annotation duration spaced according to\n",
      "        ``chunk_duration``. As a consequence annotations with duration shorter\n",
      "        than ``chunk_duration`` will not contribute events.\n",
      "    \n",
      "    verbose : bool, str, int, or None\n",
      "        If not None, override default verbose level (see :func:`mne.verbose`\n",
      "        and :ref:`Logging documentation <tut_logging>` for more).\n",
      "    \n",
      "    Returns\n",
      "    -------\n",
      "    events : ndarray, shape (n_events, 3)\n",
      "        The events.\n",
      "    event_id : dict\n",
      "        The event_id variable that can be passed to Epochs.\n",
      "    \n",
      "    Notes\n",
      "    -----\n",
      "    For data formats that store integer events as strings (e.g., NeuroScan\n",
      "    ``.cnt`` files), passing the Python built-in function :class:`int` as the\n",
      "    ``event_id`` parameter will do what most users probably want in those\n",
      "    circumstances: return an ``event_id`` dictionary that maps event ``'1'`` to\n",
      "    integer event code ``1``, ``'2'`` to ``2``, etc.\n",
      "\n"
     ]
    }
   ],
   "source": [
    "help(mne.events_from_annotations)"
   ]
  },
  {
   "cell_type": "code",
   "execution_count": null,
   "metadata": {},
   "outputs": [],
   "source": []
  }
 ],
 "metadata": {
  "kernelspec": {
   "display_name": "Python 3",
   "language": "python",
   "name": "python3"
  },
  "language_info": {
   "codemirror_mode": {
    "name": "ipython",
    "version": 3
   },
   "file_extension": ".py",
   "mimetype": "text/x-python",
   "name": "python",
   "nbconvert_exporter": "python",
   "pygments_lexer": "ipython3",
   "version": "3.8.3"
  }
 },
 "nbformat": 4,
 "nbformat_minor": 4
}
