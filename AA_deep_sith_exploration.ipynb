{
 "cells": [
  {
   "cell_type": "markdown",
   "metadata": {},
   "source": [
    "# Deep SITH Exploration\n",
    "\n",
    "## Breakdown \n",
    "\n",
    "@deep_isith.py: Python script that is called to actually create an instance of the network. Deep SITH inherits SITH features, so non-optional SITH parameters need to be included as well, or previously designated. \n",
    "\n",
    "    A Module built for SITH like an LSTM\n",
    "\n",
    "    Parameters\n",
    "    ----------\n",
    "    layer_params: list\n",
    "        A list of dictionaries for each layer in the desired DeepSITH. All\n",
    "        of the parameters needed for the SITH part of the Layers, as well as\n",
    "        a hidden_size and optional act_func are required to be present.\n",
    "\n",
    "    layer_params keys\n",
    "    -----------------\n",
    "    hidden_size: int (default in_features)\n",
    "        The size of the output of the hidden layer. Please note that the\n",
    "        in_features parameter for the next layer's SITH representation should be\n",
    "        equal to the previous layer's hidden_size. This parameter will default\n",
    "        to the in_features of the current SITH layer if not specified.\n",
    "    act_func: torch.nn.Module (default None)\n",
    "        The torch layer of the desired activation function, or None if no\n",
    "        there is no desired activation function between layers.\n",
    "\n",
    "    In addition to these keys, you must include all of the non-optional SITH\n",
    "    layer keys in each dictionary. Please see the SITH docstring for\n",
    "    suggestions. "
   ]
  },
  {
   "cell_type": "code",
   "execution_count": 1,
   "metadata": {},
   "outputs": [],
   "source": [
    "%matplotlib inline"
   ]
  },
  {
   "cell_type": "code",
   "execution_count": 7,
   "metadata": {},
   "outputs": [
    {
     "name": "stdout",
     "output_type": "stream",
     "text": [
      "<class 'torch.DoubleTensor'>\n"
     ]
    },
    {
     "ename": "ModuleNotFoundError",
     "evalue": "No module named 'sith'",
     "output_type": "error",
     "traceback": [
      "\u001b[0;31m---------------------------------------------------------------------------\u001b[0m",
      "\u001b[0;31mModuleNotFoundError\u001b[0m                       Traceback (most recent call last)",
      "\u001b[0;32m<ipython-input-7-11ac63a36172>\u001b[0m in \u001b[0;36m<module>\u001b[0;34m\u001b[0m\n\u001b[1;32m     14\u001b[0m \u001b[0mttype\u001b[0m \u001b[0;34m=\u001b[0m \u001b[0mtorch\u001b[0m\u001b[0;34m.\u001b[0m\u001b[0mcuda\u001b[0m\u001b[0;34m.\u001b[0m\u001b[0mDoubleTensor\u001b[0m \u001b[0;32mif\u001b[0m \u001b[0mtorch\u001b[0m\u001b[0;34m.\u001b[0m\u001b[0mcuda\u001b[0m\u001b[0;34m.\u001b[0m\u001b[0mis_available\u001b[0m\u001b[0;34m(\u001b[0m\u001b[0;34m)\u001b[0m \u001b[0;32melse\u001b[0m \u001b[0mtorch\u001b[0m\u001b[0;34m.\u001b[0m\u001b[0mDoubleTensor\u001b[0m\u001b[0;34m\u001b[0m\u001b[0;34m\u001b[0m\u001b[0m\n\u001b[1;32m     15\u001b[0m \u001b[0mprint\u001b[0m\u001b[0;34m(\u001b[0m\u001b[0mttype\u001b[0m\u001b[0;34m)\u001b[0m\u001b[0;34m\u001b[0m\u001b[0;34m\u001b[0m\u001b[0m\n\u001b[0;32m---> 16\u001b[0;31m \u001b[0;32mfrom\u001b[0m \u001b[0msith\u001b[0m \u001b[0;32mimport\u001b[0m \u001b[0mDeepSITH\u001b[0m\u001b[0;34m\u001b[0m\u001b[0;34m\u001b[0m\u001b[0m\n\u001b[0m\u001b[1;32m     17\u001b[0m \u001b[0;32mfrom\u001b[0m \u001b[0mtqdm\u001b[0m\u001b[0;34m.\u001b[0m\u001b[0mnotebook\u001b[0m \u001b[0;32mimport\u001b[0m \u001b[0mtqdm\u001b[0m\u001b[0;34m\u001b[0m\u001b[0;34m\u001b[0m\u001b[0m\n\u001b[1;32m     18\u001b[0m \u001b[0;32mimport\u001b[0m \u001b[0mpickle\u001b[0m\u001b[0;34m\u001b[0m\u001b[0;34m\u001b[0m\u001b[0m\n",
      "\u001b[0;31mModuleNotFoundError\u001b[0m: No module named 'sith'"
     ]
    }
   ],
   "source": [
    "import matplotlib.pyplot as plt\n",
    "import torch\n",
    "from torch import nn as nn\n",
    "from math import factorial\n",
    "import random\n",
    "import torch.nn.functional as F\n",
    "import numpy as np\n",
    "import seaborn as sn\n",
    "import pandas as pd\n",
    "import os \n",
    "from os.path import join\n",
    "import glob\n",
    "from math import factorial\n",
    "ttype = torch.cuda.DoubleTensor if torch.cuda.is_available() else torch.DoubleTensor\n",
    "print(ttype)\n",
    "from sith import DeepSITH\n",
    "from tqdm.notebook import tqdm\n",
    "import pickle\n",
    "sn.set_context(\"poster\")"
   ]
  },
  {
   "cell_type": "code",
   "execution_count": 6,
   "metadata": {},
   "outputs": [
    {
     "name": "stdout",
     "output_type": "stream",
     "text": [
      "running install\n",
      "running bdist_egg\n",
      "running egg_info\n",
      "creating SITH_Layer.egg-info\n",
      "writing SITH_Layer.egg-info/PKG-INFO\n",
      "writing dependency_links to SITH_Layer.egg-info/dependency_links.txt\n",
      "writing top-level names to SITH_Layer.egg-info/top_level.txt\n",
      "writing manifest file 'SITH_Layer.egg-info/SOURCES.txt'\n",
      "reading manifest file 'SITH_Layer.egg-info/SOURCES.txt'\n",
      "writing manifest file 'SITH_Layer.egg-info/SOURCES.txt'\n",
      "installing library code to build/bdist.macosx-10.9-x86_64/egg\n",
      "running install_lib\n",
      "warning: install_lib: 'build/lib' does not exist -- no Python modules to install\n",
      "\n",
      "creating build\n",
      "creating build/bdist.macosx-10.9-x86_64\n",
      "creating build/bdist.macosx-10.9-x86_64/egg\n",
      "creating build/bdist.macosx-10.9-x86_64/egg/EGG-INFO\n",
      "copying SITH_Layer.egg-info/PKG-INFO -> build/bdist.macosx-10.9-x86_64/egg/EGG-INFO\n",
      "copying SITH_Layer.egg-info/SOURCES.txt -> build/bdist.macosx-10.9-x86_64/egg/EGG-INFO\n",
      "copying SITH_Layer.egg-info/dependency_links.txt -> build/bdist.macosx-10.9-x86_64/egg/EGG-INFO\n",
      "copying SITH_Layer.egg-info/top_level.txt -> build/bdist.macosx-10.9-x86_64/egg/EGG-INFO\n",
      "zip_safe flag not set; analyzing archive contents...\n",
      "creating dist\n",
      "creating 'dist/SITH_Layer-0.0.0-py3.8.egg' and adding 'build/bdist.macosx-10.9-x86_64/egg' to it\n",
      "removing 'build/bdist.macosx-10.9-x86_64/egg' (and everything under it)\n",
      "Processing SITH_Layer-0.0.0-py3.8.egg\n",
      "Copying SITH_Layer-0.0.0-py3.8.egg to /Users/arshiyaansari/opt/anaconda3/lib/python3.8/site-packages\n",
      "Adding SITH-Layer 0.0.0 to easy-install.pth file\n",
      "\n",
      "Installed /Users/arshiyaansari/opt/anaconda3/lib/python3.8/site-packages/SITH_Layer-0.0.0-py3.8.egg\n",
      "Processing dependencies for SITH-Layer==0.0.0\n",
      "Finished processing dependencies for SITH-Layer==0.0.0\n"
     ]
    }
   ],
   "source": [
    "# !cd /Users/arshiyaansari/Documents/masters/capstone/SITH_Layer\n",
    "# !pwd\n",
    "# !cd .. \n",
    "# !cd SITH_Layer\n",
    "!python /Users/arshiyaansari/Documents/masters/capstone/SITH_Layer/setup.py install"
   ]
  },
  {
   "cell_type": "code",
   "execution_count": null,
   "metadata": {},
   "outputs": [],
   "source": []
  }
 ],
 "metadata": {
  "kernelspec": {
   "display_name": "Python 3",
   "language": "python",
   "name": "python3"
  },
  "language_info": {
   "codemirror_mode": {
    "name": "ipython",
    "version": 3
   },
   "file_extension": ".py",
   "mimetype": "text/x-python",
   "name": "python",
   "nbconvert_exporter": "python",
   "pygments_lexer": "ipython3",
   "version": "3.8.3"
  }
 },
 "nbformat": 4,
 "nbformat_minor": 4
}
